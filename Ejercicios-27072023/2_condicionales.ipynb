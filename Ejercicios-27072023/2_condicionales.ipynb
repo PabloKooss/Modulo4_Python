{
 "cells": [
  {
   "cell_type": "markdown",
   "metadata": {},
   "source": [
    "# Ejercicios: Estructura condicional"
   ]
  },
  {
   "cell_type": "markdown",
   "metadata": {},
   "source": [
    "### Ejercicio 1\n",
    "Escribir un programa que pregunte al usuario su edad y muestre por pantalla si es mayor de edad o no."
   ]
  },
  {
   "cell_type": "code",
   "execution_count": 2,
   "metadata": {},
   "outputs": [
    {
     "name": "stdout",
     "output_type": "stream",
     "text": [
      "Felicidades eres mayor de edad\n"
     ]
    }
   ],
   "source": [
    "# Solución\n",
    "edad=int(input(\"Ingresa tu edad:\"))\n",
    "if edad == 18 or edad > 18:\n",
    "    print(\"Felicidades eres mayor de edad\")\n",
    "else:\n",
    "    print(\"Siguelo intentando\")"
   ]
  },
  {
   "cell_type": "markdown",
   "metadata": {},
   "source": [
    "### Ejercicio 2\n",
    "Escribir un programa que almacene una <span style=\"color:#66D9EF\">contraseña</span> en una variable, pregunte al usuario por la <span style=\"color:#66D9EF\">contraseña</span> e imprima por pantalla si la <span style=\"color:#66D9EF\">contraseña</span> introducida por el usuario coincide con la guardada en la variable sin tener en cuenta mayúsculas y minúsculas."
   ]
  },
  {
   "cell_type": "code",
   "execution_count": 3,
   "metadata": {},
   "outputs": [
    {
     "name": "stdout",
     "output_type": "stream",
     "text": [
      "Ejercicio Condicionales 2.2.-Verifica contraseña \n",
      "Contraseña correcta.\n"
     ]
    }
   ],
   "source": [
    "# Solución\n",
    "import getpass\n",
    "print(\"Ejercicio Condicionales 2.2.-Verifica contraseña \")# Solución\n",
    "contrag=\"nosenada\"\n",
    "contran=getpass.getpass(\"Introduce la contraseña:\")\n",
    "if contrag == contran.lower():\n",
    "  print(\"Contraseña correcta.\")\n",
    "else:\n",
    "  print(\"Contraseña erronea.\")\n"
   ]
  },
  {
   "cell_type": "markdown",
   "metadata": {},
   "source": [
    "### Ejercicio 3\n",
    "Escribir un programa que pida al usuario dos números y muestre por pantalla su división. Si el divisor es cero el programa debe mostrar un error."
   ]
  },
  {
   "cell_type": "code",
   "execution_count": null,
   "metadata": {},
   "outputs": [],
   "source": [
    "# Solución\n",
    "print(\"Ejercicio Condicionales 2.3.-verifica divisor no 0\")# Solución\n",
    "divisor=float(input(\"introduce el divisor: \"))\n",
    "dividendo=float(input(\"introduce el dividendo: \"))\n",
    "if divisor == 0:\n",
    "  print(\"Error, el divisor no puede ser 0\")\n",
    "else:\n",
    "  division=dividendo/divisor\n",
    "  print(f\"La division de {dividendo} / {divisor} = {division}\")"
   ]
  },
  {
   "cell_type": "markdown",
   "metadata": {},
   "source": [
    "### Ejercicio 4\n",
    "Escribir un programa que pida al usuario un número entero y muestre por pantalla si es par o impar."
   ]
  },
  {
   "cell_type": "code",
   "execution_count": null,
   "metadata": {},
   "outputs": [],
   "source": [
    "# Solución\n",
    "def divisor_0(numero):\n",
    "    if numero % 2 == 0:\n",
    "        return True\n",
    "    else:\n",
    "        return False\n",
    "numero_ingresado = int(input(\"introduzca un entero\"))\n",
    "if divisor_0(numero_ingresado) : \n",
    "        print(\"el numero es par\")\n",
    "else:\n",
    "        print(\"el numero es impar\")\n",
    "divisor_0"
   ]
  },
  {
   "cell_type": "markdown",
   "metadata": {},
   "source": [
    "### Ejercicio 5\n",
    "Para pagar un determinado impuesto se debe ser mayor de 16 años y tener unos ingresos iguales o superiores a $5000 mensuales. Escribir un programa que pregunte al usuario su edad y sus ingresos mensuales y muestre por pantalla si el usuario tiene que pagar o no."
   ]
  },
  {
   "cell_type": "code",
   "execution_count": 5,
   "metadata": {},
   "outputs": [
    {
     "name": "stdout",
     "output_type": "stream",
     "text": [
      "debes pagar impuestos\n"
     ]
    }
   ],
   "source": [
    "# Solución\n",
    "edad=int(input(\"Ingresa tu edad:\"))\n",
    "ingresos=float(input(\"Cuales son tus ingresos:\"))\n",
    "if edad>16 and ingresos>=5000:\n",
    "    print(\"debes pagar impuestos\")\n",
    "    \n",
    "else:\n",
    "    print(\"no debes mandar ingresos\")"
   ]
  },
  {
   "cell_type": "markdown",
   "metadata": {},
   "source": [
    "### Ejercicio 6\n",
    "Los alumnos de un curso se han dividido en dos grupos A y B de acuerdo al sexo y el nombre. El grupo A esta formado por las mujeres con un nombre anterior a la M y los hombres con un nombre posterior a la N y el grupo B por el resto. Escribir un programa que pregunte al usuario su nombre y sexo, y muestre por pantalla el grupo que le corresponde."
   ]
  },
  {
   "cell_type": "code",
   "execution_count": null,
   "metadata": {},
   "outputs": [],
   "source": [
    "# Solución\n",
    "nombre = input(\"Ingrese nombre:\")\n",
    "genero = input(\"Ingrese genero (F / M):\")\n",
    "\n",
    "if ((nombre[0].upper() < \"M\" and genero.upper() == \"F\") or (nombre[0].upper() > \"N\" and genero.upper() == \"M\")):\n",
    "    print(\"Perteneces al grupo A\")\n",
    "else:\n",
    "    print(\"Perteneces al grupo B\")"
   ]
  },
  {
   "cell_type": "markdown",
   "metadata": {},
   "source": [
    "### Ejercicio 7\n",
    "En una determinada empresa, sus empleados son evaluados al final de cada año. Los puntos que pueden obtener en la evaluación comienzan en 0.0 y pueden ir aumentando, traduciéndose en mejores beneficios. Los puntos que pueden conseguir los empleados pueden ser 0.0, 0.4, 0.6 o más, pero no valores intermedios entre las cifras mencionadas. A continuación se muestra una tabla con los niveles correspondientes a cada puntuación. La cantidad de dinero conseguida en cada nivel es de $2,400 multiplicada por la puntuación del nivel.\n",
    "<center>\n",
    "\n",
    "|Nivel|Puntuación|\n",
    "|:-:|:-:|\n",
    "|Inaceptable|0.0|\n",
    "|Aceptable|0.4|\n",
    "|Meritorio|0.6 o más|\n",
    "\n",
    "Escribir un programa que lea la puntuación del usuario e indique su nivel de rendimiento, así como la cantidad de dinero que recibirá el usuario.\n",
    "\n",
    "\n"
   ]
  },
  {
   "cell_type": "code",
   "execution_count": null,
   "metadata": {},
   "outputs": [],
   "source": [
    "# Solución"
   ]
  },
  {
   "cell_type": "markdown",
   "metadata": {},
   "source": [
    "### Ejercicio 8\n",
    "Escribir un programa para una empresa que tiene salas de juegos para todas las edades y quiere calcular de forma automática el precio que debe cobrar a sus clientes por entrar. El programa debe preguntar al usuario la edad del cliente y mostrar el precio de la entrada. Si el cliente es menor de 4 años puede entrar gratis, si tiene entre 4 y 18 años debe pagar $5 y si es mayor de 18 años, $10."
   ]
  },
  {
   "cell_type": "code",
   "execution_count": null,
   "metadata": {},
   "outputs": [],
   "source": [
    "# Solución"
   ]
  },
  {
   "cell_type": "markdown",
   "metadata": {},
   "source": [
    "### Ejercicio 9\n",
    "La pizzería Planeta ofrece pizzas vegetarianas y no vegetarianas a sus clientes. Los ingredientes para cada tipo de pizza aparecen a continuación.  \n",
    "\n",
    "* Vegetarianos: Pimiento y tofu.  \n",
    "* No vegetarianos: Peperoni, Jamón y Salmón.  \n",
    "\n",
    "Escribir un programa que pregunte al usuario si quiere una pizza vegetariana o no, y en función de su respuesta le muestre un menú con los ingredientes disponibles para que elija. Solo se puede eligir un ingrediente además de la mozzarella y el tomate que están en todas la pizzas. Al final se debe mostrar por pantalla si la pizza elegida es vegetariana o no y todos los ingredientes que lleva.\n",
    "\n",
    "\n"
   ]
  },
  {
   "cell_type": "code",
   "execution_count": null,
   "metadata": {},
   "outputs": [],
   "source": [
    "# Solución\n",
    "while True:\n",
    "    respuesta=input(\"Quieres pizza vegetariana?(si o no)\")\n",
    "    if respuesta==\"Si\" or respuesta == \"si\":\n",
    "        print(\"Elegiste pizza vegetariana llevara Pimiento y tofu.\")\n",
    "        break\n",
    "    elif respuesta==\"No\" or respuesta==\"no\":\n",
    "        print(\"NO elegiste pizza vegetariana llevara Peperoni, Jamón y Salmón.\")\n",
    "        break\n",
    "    else:\n",
    "        print(\"Respuesta invalida\\nINGRESA UNA OPCION VALIDA\")"
   ]
  }
 ],
 "metadata": {
  "kernelspec": {
   "display_name": "Python 3.10.4 64-bit",
   "language": "python",
   "name": "python3"
  },
  "language_info": {
   "codemirror_mode": {
    "name": "ipython",
    "version": 3
   },
   "file_extension": ".py",
   "mimetype": "text/x-python",
   "name": "python",
   "nbconvert_exporter": "python",
   "pygments_lexer": "ipython3",
   "version": "3.11.4"
  },
  "orig_nbformat": 4,
  "vscode": {
   "interpreter": {
    "hash": "9524c4952dd211fec7df7c73b3afac2dbc89a267f70352ce6257a0999e7cce99"
   }
  }
 },
 "nbformat": 4,
 "nbformat_minor": 2
}
